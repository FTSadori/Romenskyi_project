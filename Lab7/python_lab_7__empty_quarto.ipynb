{
 "cells": [
  {
   "cell_type": "markdown",
   "metadata": {},
   "source": [
    "---\n",
    "title: 'Лабораторна робота №7. Словники, кортежі. Обробка винятків (empty)'\n",
    "description:\n",
    "   Документ зроблено за допомогою [Quarto](https://quarto.org/)\n",
    "author: \"&copy; Роменський В'ячеслав, 2023\"\n",
    "date: \"10.06.2023\"\n",
    "lang: ukr\n",
    "format:\n",
    "  html:\n",
    "    code-fold: true\n",
    "    toc: true # меню\n",
    "    toc_float: # спливаюче меню  \n",
    "      collapsed: true # авто\n",
    "      number_sections: true\n",
    "jupyter: python3\n",
    "---"
   ]
  },
  {
   "cell_type": "markdown",
   "metadata": {},
   "source": [
    "__Мета:__ _навчитися працювати зі структурами даних Кортеж та Словник. Навчитись обробляти основні типи винятків_"
   ]
  },
  {
   "cell_type": "markdown",
   "metadata": {},
   "source": [
    "## Робота зі словниками"
   ]
  },
  {
   "cell_type": "markdown",
   "metadata": {},
   "source": [
    "### Завдання 1"
   ]
  },
  {
   "cell_type": "markdown",
   "metadata": {},
   "source": [
    "Напишіть програму, яка створює кортеж зі списку чисел, а потім виводить на екран всі числа, які менші за задане число `n`. Умова: користувач вводить число `n`, і   щоб створити новий список `result`, який містить всі числа з кортежу, які менші за `n`, реалізувати за допомогою генератора списків."
   ]
  },
  {
   "cell_type": "code",
   "execution_count": 1,
   "metadata": {},
   "outputs": [
    {
     "name": "stdin",
     "output_type": "stream",
     "text": [
      "Input n ->  5\n"
     ]
    },
    {
     "name": "stdout",
     "output_type": "stream",
     "text": [
      "[1, 2, 2, 1, 4, 2, 3]\n"
     ]
    }
   ],
   "source": [
    "n = int(input('Input n -> '))\n",
    "\n",
    "tup = 1,2,5,23,2,1,6,4,2,3,6\n",
    "\n",
    "result = []\n",
    "\n",
    "for num in tup:\n",
    "    if num < n:\n",
    "        result.append(num)\n",
    "\n",
    "print(result)"
   ]
  },
  {
   "cell_type": "markdown",
   "metadata": {},
   "source": [
    "### Завдання 2\n",
    "Напишіть програму, яка створює кортеж з трьох елементів, які є рядками, та з'єднує їх в один рядок з комою як роздільником. Примітка: з'єднати рядки також можна за допомогою методу `.joint()`"
   ]
  },
  {
   "cell_type": "code",
   "execution_count": 6,
   "metadata": {},
   "outputs": [
    {
     "name": "stdin",
     "output_type": "stream",
     "text": [
      "Print first string ->  sldkfj els\n",
      "Print second string ->  sdf sd\n",
      "Print third string ->  f sdf\n"
     ]
    },
    {
     "name": "stdout",
     "output_type": "stream",
     "text": [
      "sldkfj els, sdf sd, f sdf\n"
     ]
    }
   ],
   "source": [
    "a = input('Print first string -> ')\n",
    "b = input('Print second string -> ')\n",
    "c = input('Print third string -> ')\n",
    "\n",
    "tup = a, b, c\n",
    "\n",
    "print(', '.join(tup))"
   ]
  },
  {
   "cell_type": "markdown",
   "metadata": {},
   "source": [
    "### Завдання 3 "
   ]
  },
  {
   "cell_type": "markdown",
   "metadata": {},
   "source": [
    "Створіть словник, який містить інформацію про книги в бібліотеці. Ключами будуть назви книг, а значеннями - автори, рік видання та кількість сторінок. Виведіть на екран інформацію про книгу, введену користувачем."
   ]
  },
  {
   "cell_type": "code",
   "execution_count": 15,
   "metadata": {},
   "outputs": [
    {
     "name": "stdin",
     "output_type": "stream",
     "text": [
      "Input book name ->  Name1\n"
     ]
    },
    {
     "name": "stdout",
     "output_type": "stream",
     "text": [
      "Name1\n",
      "Author:\t author1\n",
      "Year:\t 1997\n",
      "Pages:\t 350\n"
     ]
    }
   ],
   "source": [
    "dict = { \"Name1\" : (\"author1\", 1997, 350), \n",
    "        \"Name2\" : (\"author2\", 1230, 90), \n",
    "        \"Name3\" : (\"author3\", 2000, 150)}\n",
    "\n",
    "name = input(\"Input book name -> \")\n",
    "\n",
    "if name in dict:\n",
    "    print(name)\n",
    "    print(\"Author:\\t\", dict[name][0])\n",
    "    print(\"Year:\\t\", dict[name][1])\n",
    "    print(\"Pages:\\t\", dict[name][2])\n",
    "else:\n",
    "    print(\"Sorry, we don't have that book :(\")"
   ]
  },
  {
   "cell_type": "markdown",
   "metadata": {},
   "source": [
    "## Сумісна робота зі словниками і кортежами"
   ]
  },
  {
   "cell_type": "markdown",
   "metadata": {},
   "source": [
    "### Завдання 4"
   ]
  },
  {
   "cell_type": "markdown",
   "metadata": {},
   "source": [
    "Напишіть програму, яка створює словник, що містить інформацію про студентів, використовуючи вказані кортежі в якості значень. Кожен ключ -- це прізвище студента. Виведіть на екран інформацію про студента, введеного користувачем."
   ]
  },
  {
   "cell_type": "code",
   "execution_count": 16,
   "metadata": {},
   "outputs": [
    {
     "name": "stdin",
     "output_type": "stream",
     "text": [
      "Input student's surname ->  StudSurname1\n"
     ]
    },
    {
     "name": "stdout",
     "output_type": "stream",
     "text": [
      "StudSurname1 StudName1 StudPatr1\n",
      "Age: 19\n",
      "КН-21-1\n"
     ]
    }
   ],
   "source": [
    "students = { \"StudSurname1\" : (\"StudName1\", \"StudPatr1\", 19, \"КН-21-1\"), \n",
    "            \"StudSurname2\" : (\"StudName2\", \"StudPatr2\", 21, \"КН-21-1\"),\n",
    "            \"StudSurname3\" : (\"StudName3\", \"StudPatr3\", 20, \"КІ-21-1\"),\n",
    "            \"StudSurname4\" : (\"StudName4\", \"StudPatr4\", 22, \"КІ-21-1\"),\n",
    "           }\n",
    "\n",
    "surname = input(\"Input student's surname -> \")\n",
    "\n",
    "if surname in students:\n",
    "    stud = students[surname]\n",
    "    print(surname, stud[0], stud[1])\n",
    "    print(\"Age:\", stud[2])\n",
    "    print(stud[3])\n",
    "else:\n",
    "    print(\"Sorry, we know about this student :(\")"
   ]
  },
  {
   "cell_type": "markdown",
   "metadata": {},
   "source": [
    "### Завдання 5"
   ]
  },
  {
   "cell_type": "markdown",
   "metadata": {},
   "source": [
    "Створіть словник, який містить інформацію про більше, ніж один номер телефону для кожного з контактів в телефонній книзі. Ключами будуть імена контактів, а значеннями - список їхніх номерів телефонів. Напишіть функцію, яка дозволяє додати новий номер телефону до списку номерів телефону певного контакту. Потім виведіть на екран список номерів телефонів для всіх контактів."
   ]
  },
  {
   "cell_type": "code",
   "execution_count": 19,
   "metadata": {},
   "outputs": [
    {
     "name": "stdout",
     "output_type": "stream",
     "text": [
      "Dude1:\n",
      "\t+380000000000\n",
      "\t+380000000001\n",
      "\t+380000000012\n",
      "Dude2:\n",
      "\t+380000000100\n",
      "\t+380000000101\n",
      "\t+380000000102\n",
      "Dude3:\n",
      "\t+380000000200\n",
      "\t+380000000201\n",
      "Dude4:\n",
      "\t+380000000300\n",
      "\t+380000000301\n",
      "\t+380000000302\n",
      "\t+380000000303\n",
      "Dude5:\n",
      "\t+380000000042\n"
     ]
    }
   ],
   "source": [
    "contacts = { \"Dude1\" : [\"+380000000000\", \"+380000000001\"], \n",
    "            \"Dude2\" : [\"+380000000100\", \"+380000000101\", \"+380000000102\"],\n",
    "            \"Dude3\" : [\"+380000000200\", \"+380000000201\"],\n",
    "            \"Dude4\" : [\"+380000000300\", \"+380000000301\", \"+380000000302\", \"+380000000303\"]}\n",
    "\n",
    "def add_num(dude_name, number):\n",
    "    global contacts\n",
    "    if dude_name in contacts:\n",
    "        if number not in contacts[dude_name]:\n",
    "            contacts[dude_name].append(number)\n",
    "    else:\n",
    "        contacts[dude_name] = [number]\n",
    "\n",
    "def show_contacts():\n",
    "    for dude, info in contacts.items():\n",
    "        print(dude + \":\")\n",
    "        for num in info:\n",
    "            print(\"\\t\" + num)\n",
    "\n",
    "add_num(\"Dude5\", \"+380000000042\")\n",
    "add_num(\"Dude1\", \"+380000000012\")\n",
    "\n",
    "show_contacts()"
   ]
  },
  {
   "cell_type": "markdown",
   "metadata": {},
   "source": [
    "## Завдання для самостіної роботи\n",
    "\n",
    "1. Виконати завдання 1-5 наведені вище у цьому зошиті.\n",
    "\n",
    "1. Створити файл __lab_7_StudentLastName.py__ з написаним кодом. \n",
    "\n",
    "1. Закомітити файл у локальний репозиторій.\n",
    "\n",
    "1. Відправити (\"запушити\") поточну версію Git-проєкта у віддалений репозиторій на GitHub.\n",
    "\n",
    "1. Звіт має складатися з файлу (за основу взяти __цей Python-зошит__)  `lab_7_StudentLastName.ipynb`. (Можливі якісь додакові файли)"
   ]
  },
  {
   "cell_type": "markdown",
   "metadata": {},
   "source": [
    "## Контрольні запитання\n",
    "\n",
    "1. Що виведе наступний код?\n",
    "\n",
    "```\n",
    "my_tuple = (1, 2, 3)\n",
    "print(my_tuple[1:])\n",
    "```\n",
    "\n",
    "Код виводить (2, 3)\n",
    "\n",
    "\n",
    "2. Що виведе наступний код?\n",
    "```\n",
    "my_dict = {'a': 1, 'b': 2, 'c': 3}\n",
    "print(my_dict.get('d', 4))\n",
    "```\n",
    "\n",
    "Код виводить 4 як дефолтне значення, бо 'd' немає у словнику\n",
    "\n",
    "3. Що виведе наступний код?\n",
    "```\n",
    "my_tuple = (1, 2, 3)\n",
    "my_tuple[0] = 4\n",
    "print(my_tuple)\n",
    "```\n",
    "\n",
    "Змінювати кортеж не можна\n",
    "\n",
    "4. Що виведе наступний код?\n",
    "```\n",
    "my_dict = {'a': 1, 'b': 2, 'c': 3}\n",
    "my_dict.update({'d': 4})\n",
    "print(my_dict)\n",
    "```\n",
    "\n",
    "Він поєднає два словники, і вийде {'a': 1, 'b': 2, 'c': 3, 'd': 4}"
   ]
  },
  {
   "cell_type": "markdown",
   "metadata": {},
   "source": [
    "## References"
   ]
  },
  {
   "cell_type": "markdown",
   "metadata": {},
   "source": [
    "1. [Anaconda (Python distribution)](https://uk.wikipedia.org/wiki/Anaconda_(Python_distribution))\n",
    "2. [Conda](https://conda.io/en/latest/)\n",
    "3. [Pro Git Book](https://git-scm.com/book/en/v2)\n",
    "4. [OpenEDG Python Institute](https://pythoninstitute.org/)\n",
    "5. [Cisco. Networking Academy](https://www.netacad.com/)\n",
    "6. [Научно-издательская система Quarto](https://data-visualization-blog.netlify.app/posts/quarto/)"
   ]
  }
 ],
 "metadata": {
  "kernelspec": {
   "display_name": "Python 3 (ipykernel)",
   "language": "python",
   "name": "python3"
  },
  "language_info": {
   "codemirror_mode": {
    "name": "ipython",
    "version": 3
   },
   "file_extension": ".py",
   "mimetype": "text/x-python",
   "name": "python",
   "nbconvert_exporter": "python",
   "pygments_lexer": "ipython3",
   "version": "3.11.4"
  }
 },
 "nbformat": 4,
 "nbformat_minor": 4
}
