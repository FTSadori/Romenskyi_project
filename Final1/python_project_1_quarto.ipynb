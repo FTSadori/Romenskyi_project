{
 "cells": [
  {
   "cell_type": "markdown",
   "metadata": {},
   "source": [
    "---\n",
    "title: \"Фінальний проєкт І\"\n",
    "description:\n",
    "  Документ зроблено в [Quarto](https://quarto.org/)\n",
    "author: \"&copy; Роменський В'ячеслав, 2023\"\n",
    "date: \"10.13.2023\"\n",
    "lang: ukr\n",
    "format:\n",
    "  html:\n",
    "    code-fold: true\n",
    "jupyter: python3\n",
    "---"
   ]
  },
  {
   "cell_type": "markdown",
   "metadata": {},
   "source": [
    "__Мета:__\n",
    "\n",
    "* _вдосконалення навичок у використанні Python для розв'язання складних завдань;_\n",
    "* _інтеграція методів програмування в одну програму, що складається з багатьох різних елементів._"
   ]
  },
  {
   "cell_type": "markdown",
   "metadata": {},
   "source": [
    "### Постановка завдання"
   ]
  },
  {
   "attachments": {},
   "cell_type": "markdown",
   "metadata": {},
   "source": [
    "Ваше завдання - написати просту програму, яка вдає, ніби грає з користувачем у хрестики-нуліки. Щоб вам було простіше, ми вирішили спростити гру. Ось наші припущення:\n",
    "\n",
    "* комп'ютер (тобто Ваша програма) повинен грати у гру, використовуючи 'X';\n",
    "* користувач (наприклад, Ви) повинен грати в гру, використовуючи символи 'O';\n",
    "* перший хід належить комп'ютеру - він завжди поміщає свій перший 'X' у середину дошки;\n",
    "* всі квадрати пронумеровані рядок за рядком, починаючи з 1 (див. приклад сеансу нижче для довідки)\n",
    "* користувач робить свій хід, вводячи номер обраного ним квадрата - число має бути дійсним, тобто. воно має бути цілим числом, воно має бути більше 0 і менше 10 і воно не може вказувати на поле, яке вже зайняте;\n",
    "* програма перевіряє, чи закінчена гра - є чотири можливі варіанти: гра повинна продовжуватися, гра закінчується нічиєю, Ви виграєте або комп'ютер виграє;\n",
    "* комп'ютер відповідає  \n",
    "\n",
    "ходом і перевірка повторюється;\n",
    "* не застосовуйте штучний інтелект у будь-якій формі – випадковий вибір поля, зроблений комп'ютером, досить добрий для гри.  "
   ]
  },
  {
   "cell_type": "markdown",
   "metadata": {},
   "source": [
    "### Вимоги\n",
    "\n",
    "Реалізуйте такі функції:\n",
    "\n",
    "* дошка повинна зберігатися як список з трьох елементів, у той час як кожен елемент є ще одним список з трьох елементів (внутрішні списки представляють рядки), так що всі квадрати можуть бути доступні з використанням наступного синтаксису:  \n",
    "\n",
    "`board[row][column]`  \n",
    "\n",
    "* кожен із елементів внутрішнього списку може містити `'O'`, `'X'` або цифру, що становить номер квадрата (такий квадрат вважається вільним)\n",
    "* зовнішній вигляд дошки повинен бути таким самим, як у прикладі.  \n",
    "\n",
    "Отримати випадкове ціле число можна за допомогою функції Python під назвою `randrange()`. У наведеному нижче прикладі програми показано, як використовувати її (програма виводить десять випадкових чисел від `0` до `8`).\n",
    "\n",
    "Примітка: інструкція `from-import` забезпечує доступ до функції `randrange`, визначеної у зовнішньому модулі Python, що викликається `random`.\n",
    "\n",
    "```\n",
    "from random import randrange\n",
    "\n",
    "for i in range(10):  \n",
    "    print(randrange(8))\n",
    "```"
   ]
  },
  {
   "cell_type": "code",
   "execution_count": 1,
   "metadata": {},
   "outputs": [
    {
     "name": "stdout",
     "output_type": "stream",
     "text": [
      "+-------+-------+-------+\n",
      "|       |       |       |\n",
      "|   1   |   2   |   3   |\n",
      "|       |       |       |\n",
      "+-------+-------+-------+\n",
      "|       |       |       |\n",
      "|   4   |   X   |   6   |\n",
      "|       |       |       |\n",
      "+-------+-------+-------+\n",
      "|       |       |       |\n",
      "|   7   |   8   |   9   |\n",
      "|       |       |       |\n",
      "+-------+-------+-------+\n"
     ]
    },
    {
     "name": "stdin",
     "output_type": "stream",
     "text": [
      "Enter your move:  4\n"
     ]
    },
    {
     "name": "stdout",
     "output_type": "stream",
     "text": [
      "+-------+-------+-------+\n",
      "|       |       |       |\n",
      "|   1   |   2   |   3   |\n",
      "|       |       |       |\n",
      "+-------+-------+-------+\n",
      "|       |       |       |\n",
      "|   O   |   X   |   6   |\n",
      "|       |       |       |\n",
      "+-------+-------+-------+\n",
      "|       |       |       |\n",
      "|   7   |   8   |   9   |\n",
      "|       |       |       |\n",
      "+-------+-------+-------+\n",
      "+-------+-------+-------+\n",
      "|       |       |       |\n",
      "|   1   |   2   |   3   |\n",
      "|       |       |       |\n",
      "+-------+-------+-------+\n",
      "|       |       |       |\n",
      "|   O   |   X   |   6   |\n",
      "|       |       |       |\n",
      "+-------+-------+-------+\n",
      "|       |       |       |\n",
      "|   7   |   8   |   X   |\n",
      "|       |       |       |\n",
      "+-------+-------+-------+\n"
     ]
    },
    {
     "name": "stdin",
     "output_type": "stream",
     "text": [
      "Enter your move:  1\n"
     ]
    },
    {
     "name": "stdout",
     "output_type": "stream",
     "text": [
      "+-------+-------+-------+\n",
      "|       |       |       |\n",
      "|   O   |   2   |   3   |\n",
      "|       |       |       |\n",
      "+-------+-------+-------+\n",
      "|       |       |       |\n",
      "|   O   |   X   |   6   |\n",
      "|       |       |       |\n",
      "+-------+-------+-------+\n",
      "|       |       |       |\n",
      "|   7   |   8   |   X   |\n",
      "|       |       |       |\n",
      "+-------+-------+-------+\n",
      "+-------+-------+-------+\n",
      "|       |       |       |\n",
      "|   O   |   2   |   3   |\n",
      "|       |       |       |\n",
      "+-------+-------+-------+\n",
      "|       |       |       |\n",
      "|   O   |   X   |   6   |\n",
      "|       |       |       |\n",
      "+-------+-------+-------+\n",
      "|       |       |       |\n",
      "|   X   |   8   |   X   |\n",
      "|       |       |       |\n",
      "+-------+-------+-------+\n"
     ]
    },
    {
     "name": "stdin",
     "output_type": "stream",
     "text": [
      "Enter your move:  2\n"
     ]
    },
    {
     "name": "stdout",
     "output_type": "stream",
     "text": [
      "+-------+-------+-------+\n",
      "|       |       |       |\n",
      "|   O   |   O   |   3   |\n",
      "|       |       |       |\n",
      "+-------+-------+-------+\n",
      "|       |       |       |\n",
      "|   O   |   X   |   6   |\n",
      "|       |       |       |\n",
      "+-------+-------+-------+\n",
      "|       |       |       |\n",
      "|   X   |   8   |   X   |\n",
      "|       |       |       |\n",
      "+-------+-------+-------+\n",
      "+-------+-------+-------+\n",
      "|       |       |       |\n",
      "|   O   |   O   |   3   |\n",
      "|       |       |       |\n",
      "+-------+-------+-------+\n",
      "|       |       |       |\n",
      "|   O   |   X   |   X   |\n",
      "|       |       |       |\n",
      "+-------+-------+-------+\n",
      "|       |       |       |\n",
      "|   X   |   8   |   X   |\n",
      "|       |       |       |\n",
      "+-------+-------+-------+\n"
     ]
    },
    {
     "name": "stdin",
     "output_type": "stream",
     "text": [
      "Enter your move:  3\n"
     ]
    },
    {
     "name": "stdout",
     "output_type": "stream",
     "text": [
      "+-------+-------+-------+\n",
      "|       |       |       |\n",
      "|   O   |   O   |   O   |\n",
      "|       |       |       |\n",
      "+-------+-------+-------+\n",
      "|       |       |       |\n",
      "|   O   |   X   |   X   |\n",
      "|       |       |       |\n",
      "+-------+-------+-------+\n",
      "|       |       |       |\n",
      "|   X   |   8   |   X   |\n",
      "|       |       |       |\n",
      "+-------+-------+-------+\n",
      "You won :)\n"
     ]
    }
   ],
   "source": [
    "from random import randrange\n",
    "\n",
    "\n",
    "def display_board(board):\n",
    "    # The function accepts one parameter containing the board's current status\n",
    "    # and prints it out to the console.\n",
    "    for i in range(len(board)):\n",
    "        print(\"+-------+-------+-------+\")\n",
    "        print(\"|       |       |       |\")\n",
    "        print(\"|   {0}   |   {1}   |   {2}   |\".format(board[i][0], board[i][1], board[i][2]));\n",
    "        print(\"|       |       |       |\")\n",
    "    print(\"+-------+-------+-------+\")\n",
    "\n",
    "\n",
    "def enter_move(board):\n",
    "    # The function accepts the board's current status, asks the user about their move,\n",
    "    # checks the input, and updates the board according to the user's decision.\n",
    "    while True:\n",
    "        try:\n",
    "            user_move = int(input(\"Enter your move: \")) - 1\n",
    "            if board[user_move // 3][user_move % 3] not in \"OX\":\n",
    "                board[user_move // 3][user_move % 3] = 'O'\n",
    "                return\n",
    "        except Exception:\n",
    "            continue\n",
    "\n",
    "\n",
    "def make_list_of_free_fields(board):\n",
    "    # The function browses the board and builds a list of all the free squares;\n",
    "    # the list consists of tuples, while each tuple is a pair of row and column numbers.\n",
    "    free_moves = []\n",
    "    for i in range(len(board)):\n",
    "        for j in range(len(board[i])):\n",
    "            if board[i][j] not in \"OX\":\n",
    "                free_moves.append((i, j))\n",
    "    return free_moves\n",
    "\n",
    "\n",
    "def victory_for(board, sign):\n",
    "    # The function analyzes the board's status in order to check if\n",
    "    # the player using 'O's or 'X's has won the game\n",
    "\n",
    "    # Check rows\n",
    "    for i in range(len(board)):\n",
    "        if board[i][:] == [sign, sign, sign]:\n",
    "            return True\n",
    "    # Check columns\n",
    "    for j in range(len(board[0])):\n",
    "        if [board[0][j], board[1][j], board[2][j]] == [sign, sign, sign]:\n",
    "            return True\n",
    "    # Check diagonals\n",
    "    if [board[0][0], board[1][1], board[2][2]] == [sign, sign, sign]:\n",
    "        return True\n",
    "    if [board[0][2], board[1][1], board[2][0]] == [sign, sign, sign]:\n",
    "        return True\n",
    "    return False\n",
    "\n",
    "\n",
    "def draw_move(board):\n",
    "    # The function draws the computer's move and updates the board.\n",
    "    free_moves = make_list_of_free_fields(board)\n",
    "    num = randrange(len(free_moves))\n",
    "    move = free_moves[num]\n",
    "    board[move[0]][move[1]] = 'X'\n",
    "\n",
    "\n",
    "board = [['1', '2', '3'], ['4', 'X', '6'], ['7', '8', '9']]\n",
    "display_board(board)\n",
    "\n",
    "while True:\n",
    "    # Your turn\n",
    "    enter_move(board)\n",
    "    display_board(board)\n",
    "    if victory_for(board, 'O'):\n",
    "        print(\"You won :)\")\n",
    "        break\n",
    "    elif len(make_list_of_free_fields(board)) == 0:\n",
    "        print(\"Draw :|\")\n",
    "        break\n",
    "\n",
    "    # Bot turn\n",
    "    draw_move(board)\n",
    "    display_board(board)\n",
    "    if victory_for(board, 'X'):\n",
    "        print(\"No :(\")\n",
    "        break\n",
    "    elif len(make_list_of_free_fields(board)) == 0:\n",
    "        print(\"Tie :|\")\n",
    "        break\n"
   ]
  },
  {
   "cell_type": "markdown",
   "metadata": {},
   "source": [
    "### Завдання для самостіної роботи\n",
    "\n",
    "1. Виконати завдання.\n",
    "\n",
    "1. Створити файл __project_1_StudentLastName.py__ з написаним кодом. \n",
    "\n",
    "1. Закомітити файл у локальний репозиторій.\n",
    "\n",
    "1. Відправити (\"запушити\") поточну версію Git-проєкта у віддалений репозиторій на GitHub.\n",
    "\n",
    "1. Звіт має складатися з файлу (за основу взяти __цей Python-зошит__)  `project_1_StudentLastName.ipynb`. (Можливі якісь додакові файли)"
   ]
  },
  {
   "cell_type": "markdown",
   "metadata": {},
   "source": [
    "### References"
   ]
  },
  {
   "cell_type": "markdown",
   "metadata": {},
   "source": [
    "1. [Anaconda (Python distribution)](https://uk.wikipedia.org/wiki/Anaconda_(Python_distribution))\n",
    "2. [Conda](https://conda.io/en/latest/)\n",
    "3. [Pro Git Book](https://git-scm.com/book/en/v2)\n",
    "4. [OpenEDG Python Institute](https://pythoninstitute.org/)\n",
    "5. [Cisco. Networking Academy](https://www.netacad.com/)\n",
    "6. [Научно-издательская система Quarto](https://data-visualization-blog.netlify.app/posts/quarto/)"
   ]
  }
 ],
 "metadata": {
  "kernelspec": {
   "display_name": "Python 3 (ipykernel)",
   "language": "python",
   "name": "python3"
  },
  "language_info": {
   "codemirror_mode": {
    "name": "ipython",
    "version": 3
   },
   "file_extension": ".py",
   "mimetype": "text/x-python",
   "name": "python",
   "nbconvert_exporter": "python",
   "pygments_lexer": "ipython3",
   "version": "3.11.4"
  }
 },
 "nbformat": 4,
 "nbformat_minor": 4
}
